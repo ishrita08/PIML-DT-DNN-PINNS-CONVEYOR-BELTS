{
 "cells": [
  {
   "cell_type": "code",
   "execution_count": 1,
   "metadata": {},
   "outputs": [],
   "source": [
    "import torch\n",
    "import torch.nn as nn\n",
    "import torch.optim as optim\n",
    "import numpy as np"
   ]
  },
  {
   "cell_type": "code",
   "execution_count": 4,
   "metadata": {},
   "outputs": [
    {
     "ename": "NameError",
     "evalue": "name 'PhysicsInformedModel' is not defined",
     "output_type": "error",
     "traceback": [
      "\u001b[1;31m---------------------------------------------------------------------------\u001b[0m",
      "\u001b[1;31mNameError\u001b[0m                                 Traceback (most recent call last)",
      "Cell \u001b[1;32mIn[4], line 7\u001b[0m\n\u001b[0;32m      4\u001b[0m output_dim \u001b[38;5;241m=\u001b[39m \u001b[38;5;241m1\u001b[39m  \u001b[38;5;66;03m# Output torque prediction M\u001b[39;00m\n\u001b[0;32m      6\u001b[0m \u001b[38;5;66;03m# Model, optimizer, and data\u001b[39;00m\n\u001b[1;32m----> 7\u001b[0m model \u001b[38;5;241m=\u001b[39m \u001b[43mPhysicsInformedModel\u001b[49m(input_dim, hidden_dim, output_dim)\n\u001b[0;32m      8\u001b[0m optimizer \u001b[38;5;241m=\u001b[39m optim\u001b[38;5;241m.\u001b[39mAdam(model\u001b[38;5;241m.\u001b[39mparameters(), lr\u001b[38;5;241m=\u001b[39m\u001b[38;5;241m0.001\u001b[39m)\n\u001b[0;32m     10\u001b[0m \u001b[38;5;66;03m# Dummy input data for demonstration purposes\u001b[39;00m\n",
      "\u001b[1;31mNameError\u001b[0m: name 'PhysicsInformedModel' is not defined"
     ]
    }
   ],
   "source": [
    "# # Initialize parameters\n",
    "# input_dim = 3  # Assuming (phi, vs, mu) as inputs for basic model\n",
    "# hidden_dim = 10\n",
    "# output_dim = 1  # Output torque prediction M\n",
    "\n",
    "# # Model, optimizer, and data\n",
    "# model = PhysicsInformedModel(input_dim, hidden_dim, output_dim)\n",
    "# optimizer = optim.Adam(model.parameters(), lr=0.001)\n",
    "\n",
    "# # Dummy input data for demonstration purposes\n",
    "# phi = torch.linspace(0, 1, 100).reshape(-1, 1)   # Simulated phi values\n",
    "# vs = torch.rand(100, 1)                          # Slip velocity vs(phi)\n",
    "# mu = torch.rand(100, 1)                          # Friction coefficient mu(vs)\n",
    "# gamma = torch.tensor(0.01)                       # Example rubber friction coefficient\n",
    "# w = 1.0                                          # Angular velocity\n",
    "# R = 0.5                                          # Radius"
   ]
  },
  {
   "cell_type": "code",
   "execution_count": 5,
   "metadata": {},
   "outputs": [],
   "source": [
    "# Define the Deep Neural Network (DNN) for the PIML model\n",
    "class DNN(nn.Module):\n",
    "    def __init__(self, input_dim, hidden_dim, output_dim):\n",
    "        super(DNN, self).__init__()\n",
    "        self.fc1 = nn.Linear(input_dim, hidden_dim)\n",
    "        self.fc2 = nn.Linear(hidden_dim, hidden_dim)\n",
    "        self.fc3 = nn.Linear(hidden_dim, output_dim)\n",
    "        self.activation = nn.Tanh()\n",
    "\n",
    "    def forward(self, x):\n",
    "        x = self.activation(self.fc1(x))\n",
    "        x = self.activation(self.fc2(x))\n",
    "        x = self.fc3(x)\n",
    "        return x"
   ]
  },
  {
   "cell_type": "code",
   "execution_count": 6,
   "metadata": {},
   "outputs": [],
   "source": [
    "#Defining the PINN model\n",
    "class PhysicsInformedModel(nn.Module):\n",
    "    def __init__(self, dnn, w, R):\n",
    "        super(PhysicsInformedModel, self).__init__()\n",
    "        self.dnn = dnn\n",
    "        self.w = w  # Angular velocity\n",
    "        self.R = R  # Radius of the system\n",
    "\n",
    "    def forward(self, inputs):\n",
    "        return self.dnn(inputs)\n",
    "\n",
    "    def physics_loss(self, phi, vs, mu, gamma):\n",
    "        # Physics loss based on the given equations for M and Q\n",
    "        M = self.w * self.R**2 * torch.trapz(mu * vs, phi)\n",
    "        Q_a = self.w * self.R * torch.trapz(mu * vs**2, phi)\n",
    "        Q_b = self.w * self.R * torch.trapz(gamma * vs**2, phi)\n",
    "        \n",
    "        # Total dissipation as the physics constraint\n",
    "        physics_loss = torch.abs(M - (Q_a + Q_b))\n",
    "        return physics_loss"
   ]
  },
  {
   "cell_type": "code",
   "execution_count": 7,
   "metadata": {},
   "outputs": [],
   "source": [
    "# Hyperparameters and dummy data setup\n",
    "input_dim = 3  # (phi, vs, mu)\n",
    "hidden_dim = 10\n",
    "output_dim = 1  # Torque M prediction\n",
    "epochs = 1000\n",
    "learning_rate = 0.001\n",
    "w = 1.0  # Dummy value for angular velocity\n",
    "R = 1.0  # Dummy value for radius"
   ]
  },
  {
   "cell_type": "code",
   "execution_count": 8,
   "metadata": {},
   "outputs": [],
   "source": [
    "# Initialize the DNN and PIML model\n",
    "dnn = DNN(input_dim, hidden_dim, output_dim)\n",
    "model = PhysicsInformedModel(dnn, w, R)"
   ]
  },
  {
   "cell_type": "code",
   "execution_count": 9,
   "metadata": {},
   "outputs": [],
   "source": [
    "# Define optimizer\n",
    "optimizer = optim.Adam(model.parameters(), lr=learning_rate)"
   ]
  },
  {
   "cell_type": "code",
   "execution_count": 10,
   "metadata": {},
   "outputs": [],
   "source": [
    "# Generate random dummy data with requires_grad=True\n",
    "num_samples = 100\n",
    "phi = torch.linspace(0, 2 * np.pi, num_samples).reshape(-1, 1).requires_grad_(True)\n",
    "vs = torch.rand(num_samples, 1, requires_grad=True)  # Random slip speed values\n",
    "mu = torch.rand(num_samples, 1, requires_grad=True)  # Random friction coefficient values\n",
    "gamma = torch.rand(num_samples, 1, requires_grad=True)  # Random internal friction values\n"
   ]
  },
  {
   "cell_type": "code",
   "execution_count": 11,
   "metadata": {},
   "outputs": [],
   "source": [
    "# Compute physics-informed loss\n",
    "physics_loss = model.physics_loss(phi, vs, mu, gamma)\n",
    "\n",
    "# Take the mean (or sum) of the loss to get a scalar\n",
    "physics_loss = physics_loss.mean()\n",
    "\n",
    "# Backward pass and optimization\n",
    "physics_loss.backward()\n",
    "optimizer.step()"
   ]
  },
  {
   "cell_type": "code",
   "execution_count": 12,
   "metadata": {},
   "outputs": [
    {
     "name": "stdout",
     "output_type": "stream",
     "text": [
      "Physics Loss Shape: torch.Size([])\n"
     ]
    }
   ],
   "source": [
    "print(\"Physics Loss Shape:\", physics_loss.shape)"
   ]
  },
  {
   "cell_type": "code",
   "execution_count": 13,
   "metadata": {},
   "outputs": [
    {
     "name": "stdout",
     "output_type": "stream",
     "text": [
      "Epoch 0, Physics Loss: 0.0\n",
      "Epoch 100, Physics Loss: 0.0\n",
      "Epoch 200, Physics Loss: 0.0\n",
      "Epoch 300, Physics Loss: 0.0\n",
      "Epoch 400, Physics Loss: 0.0\n",
      "Epoch 500, Physics Loss: 0.0\n",
      "Epoch 600, Physics Loss: 0.0\n",
      "Epoch 700, Physics Loss: 0.0\n",
      "Epoch 800, Physics Loss: 0.0\n",
      "Epoch 900, Physics Loss: 0.0\n",
      "Training complete.\n"
     ]
    }
   ],
   "source": [
    "# Training loop\n",
    "for epoch in range(epochs):\n",
    "    optimizer.zero_grad()\n",
    "    \n",
    "    # Forward pass through DNN\n",
    "    inputs = torch.cat([phi, vs, mu], dim=1)\n",
    "    outputs = model(inputs)\n",
    "    \n",
    "    # Calculate the physics-informed loss\n",
    "    physics_loss = model.physics_loss(phi, vs, mu, gamma)\n",
    "    \n",
    "    # Ensure the physics_loss is a scalar\n",
    "    physics_loss = physics_loss.mean() \n",
    "\n",
    "    # Backward pass and optimization\n",
    "    physics_loss.backward()\n",
    "    optimizer.step()\n",
    "    \n",
    "    # Logging\n",
    "    if epoch % 100 == 0:\n",
    "        print(f\"Epoch {epoch}, Physics Loss: {physics_loss.item()}\")\n",
    "\n",
    "print(\"Training complete.\")"
   ]
  },
  {
   "cell_type": "code",
   "execution_count": null,
   "metadata": {},
   "outputs": [],
   "source": []
  }
 ],
 "metadata": {
  "kernelspec": {
   "display_name": "Python 3",
   "language": "python",
   "name": "python3"
  },
  "language_info": {
   "codemirror_mode": {
    "name": "ipython",
    "version": 3
   },
   "file_extension": ".py",
   "mimetype": "text/x-python",
   "name": "python",
   "nbconvert_exporter": "python",
   "pygments_lexer": "ipython3",
   "version": "3.11.9"
  }
 },
 "nbformat": 4,
 "nbformat_minor": 2
}
