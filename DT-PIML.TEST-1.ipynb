{
 "cells": [
  {
   "cell_type": "code",
   "execution_count": 9,
   "metadata": {},
   "outputs": [],
   "source": [
    "import torch\n",
    "import torch.nn as nn\n",
    "import torch.optim as optim\n",
    "import numpy as np"
   ]
  },
  {
   "cell_type": "code",
   "execution_count": 10,
   "metadata": {},
   "outputs": [],
   "source": [
    "# Define the Deep Neural Network (DNN) for the PIML model\n",
    "class DNN(nn.Module):\n",
    "    def __init__(self, input_dim, hidden_dim, output_dim):\n",
    "        super(DNN, self).__init__()\n",
    "        self.fc1 = nn.Linear(input_dim, hidden_dim)\n",
    "        self.fc2 = nn.Linear(hidden_dim, hidden_dim)\n",
    "        self.fc3 = nn.Linear(hidden_dim, output_dim)\n",
    "        self.activation = nn.Tanh()\n",
    "\n",
    "    def forward(self, x):\n",
    "        x = self.activation(self.fc1(x))\n",
    "        x = self.activation(self.fc2(x))\n",
    "        x = self.fc3(x)\n",
    "        return x"
   ]
  },
  {
   "cell_type": "code",
   "execution_count": 11,
   "metadata": {},
   "outputs": [],
   "source": [
    "#Defining the PINN model\n",
    "class PhysicsInformedModel(nn.Module):\n",
    "    def __init__(self, dnn, w, R):\n",
    "        super(PhysicsInformedModel, self).__init__()\n",
    "        self.dnn = dnn\n",
    "        self.w = w  # Angular velocity\n",
    "        self.R = R  # Radius of the system\n",
    "\n",
    "    def forward(self, inputs):\n",
    "        return self.dnn(inputs)\n",
    "\n",
    "    def physics_loss(self, phi, vs, mu, gamma,p):\n",
    "        # Physics loss based on the given equations for M and Q\n",
    "        #torque\n",
    "        M = self.w * self.R**2 * torch.trapz(mu * vs*p, phi)\n",
    "        #energies\n",
    "        Q_a = self.w * self.R * torch.trapz(mu * vs*p, phi)\n",
    "        Q_b = self.w * self.R * torch.trapz(gamma * vs**2, phi)\n",
    "        \n",
    "        # Total dissipation as the physics constraint\n",
    "        physics_loss = torch.abs(M - (Q_a + Q_b))\n",
    "        return physics_loss"
   ]
  },
  {
   "cell_type": "code",
   "execution_count": 12,
   "metadata": {},
   "outputs": [],
   "source": [
    "# Hyperparameters and dummy data setup\n",
    "input_dim = 3  # (phi, vs, mu)\n",
    "hidden_dim = 10\n",
    "output_dim = 1  # Torque M prediction\n",
    "epochs = 1000\n",
    "learning_rate = 0.001\n",
    "w = 1.0  # Dummy value for angular velocity\n",
    "R = 1.0  # Dummy value for radius"
   ]
  },
  {
   "cell_type": "code",
   "execution_count": 13,
   "metadata": {},
   "outputs": [],
   "source": [
    "# Initialize the DNN and PIML model\n",
    "dnn = DNN(input_dim, hidden_dim, output_dim)\n",
    "model = PhysicsInformedModel(dnn, w, R)"
   ]
  },
  {
   "cell_type": "code",
   "execution_count": 14,
   "metadata": {},
   "outputs": [],
   "source": [
    "# Define optimizer\n",
    "optimizer = optim.Adam(model.parameters(), lr=learning_rate)"
   ]
  },
  {
   "cell_type": "code",
   "execution_count": 15,
   "metadata": {},
   "outputs": [],
   "source": [
    "# Generate random dummy data with requires_grad=True\n",
    "num_samples = 100\n",
    "phi = torch.linspace(0, 2 * np.pi, num_samples).reshape(-1, 1).requires_grad_(True)\n",
    "vs = torch.rand(num_samples, 1, requires_grad=True)  # Random slip speed values\n",
    "mu = torch.rand(num_samples, 1, requires_grad=True)  # Random friction coefficient values\n",
    "gamma = torch.rand(num_samples, 1, requires_grad=True)  # Random internal friction values\n",
    "p = torch.rand(num_samples, 1, requires_grad=True)  # Random pressure values"
   ]
  },
  {
   "cell_type": "code",
   "execution_count": 16,
   "metadata": {},
   "outputs": [],
   "source": [
    "# Compute physics-informed loss\n",
    "physics_loss = model.physics_loss(phi, vs, mu, gamma,p)\n",
    "\n",
    "# Take the mean (or sum) of the loss to get a scalar\n",
    "physics_loss = physics_loss.mean()\n",
    "\n",
    "# Backward pass and optimization\n",
    "physics_loss.backward()\n",
    "optimizer.step()"
   ]
  },
  {
   "cell_type": "code",
   "execution_count": 17,
   "metadata": {},
   "outputs": [
    {
     "name": "stdout",
     "output_type": "stream",
     "text": [
      "Physics Loss Shape: torch.Size([])\n"
     ]
    }
   ],
   "source": [
    "print(\"Physics Loss Shape:\", physics_loss.shape)"
   ]
  },
  {
   "cell_type": "code",
   "execution_count": 18,
   "metadata": {},
   "outputs": [
    {
     "name": "stdout",
     "output_type": "stream",
     "text": [
      "Epoch 0, Physics Loss: 0.0\n",
      "Epoch 100, Physics Loss: 0.0\n",
      "Epoch 200, Physics Loss: 0.0\n",
      "Epoch 300, Physics Loss: 0.0\n",
      "Epoch 400, Physics Loss: 0.0\n",
      "Epoch 500, Physics Loss: 0.0\n",
      "Epoch 600, Physics Loss: 0.0\n",
      "Epoch 700, Physics Loss: 0.0\n",
      "Epoch 800, Physics Loss: 0.0\n",
      "Epoch 900, Physics Loss: 0.0\n",
      "Training complete.\n"
     ]
    }
   ],
   "source": [
    "# Training loop\n",
    "for epoch in range(epochs):\n",
    "    optimizer.zero_grad()\n",
    "    \n",
    "    # Forward pass through DNN\n",
    "    inputs = torch.cat([phi, vs, mu], dim=1)\n",
    "    outputs = model(inputs)\n",
    "    \n",
    "    # Calculate the physics-informed loss\n",
    "    physics_loss = model.physics_loss(phi, vs, mu, gamma,p)\n",
    "    \n",
    "    # Ensure the physics_loss is a scalar\n",
    "    physics_loss = physics_loss.mean() \n",
    "\n",
    "    # Backward pass and optimization\n",
    "    physics_loss.backward()\n",
    "    optimizer.step()\n",
    "    \n",
    "    # Logging\n",
    "    if epoch % 100 == 0:\n",
    "        print(f\"Epoch {epoch}, Physics Loss: {physics_loss.item()}\")\n",
    "\n",
    "print(\"Training complete.\")"
   ]
  },
  {
   "cell_type": "code",
   "execution_count": null,
   "metadata": {},
   "outputs": [],
   "source": []
  }
 ],
 "metadata": {
  "kernelspec": {
   "display_name": "Python 3",
   "language": "python",
   "name": "python3"
  },
  "language_info": {
   "codemirror_mode": {
    "name": "ipython",
    "version": 3
   },
   "file_extension": ".py",
   "mimetype": "text/x-python",
   "name": "python",
   "nbconvert_exporter": "python",
   "pygments_lexer": "ipython3",
   "version": "3.11.9"
  }
 },
 "nbformat": 4,
 "nbformat_minor": 2
}
